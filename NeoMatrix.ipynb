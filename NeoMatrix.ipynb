{
 "cells": [
  {
   "attachments": {},
   "cell_type": "markdown",
   "metadata": {},
   "source": [
    "**HackerRank Matrix Script**\n",
    "\n",
    "Neo has a complex matrix script. The matrix script is a  X  grid of strings. It consists of alphanumeric characters, spaces and symbols (!,@,#,$,%,&). To decode the script, Neo needs to read each column and select only the alphanumeric characters and connect them. Neo reads the column from top to bottom and starts reading from the leftmost column. If there are symbols or spaces between two alphanumeric characters of the decoded script, then Neo replaces them with a single space '' for better readability. Neo feels that there is no need to use 'if' conditions for decoding.\n",
    "\n",
    "Alphanumeric characters consist of: [A-Z, a-z, and 0-9].\n",
    "\n",
    "Note: A **0** score will be awarded for using 'if' conditions in your code.\n",
    "\n",
    "**Sample Input 0**\n",
    "\n",
    "7 3\n",
    "\n",
    "Tsi\n",
    "\n",
    "h%x\n",
    "\n",
    "i #\n",
    "\n",
    "sM \n",
    "\n",
    "$a \n",
    "\n",
    "#t%\n",
    "\n",
    "ir!\n",
    "\n",
    "**Sample Output 0**\n",
    "\n",
    "This is Matrix#  %!"
   ]
  },
  {
   "cell_type": "code",
   "execution_count": null,
   "metadata": {},
   "outputs": [],
   "source": [
    "#!/bin/python3\n",
    "\n",
    "import math\n",
    "import os\n",
    "import random\n",
    "import re\n",
    "import sys\n",
    "\n",
    "matrix=['Tsi', 'h%x', 'i #', 'sM ', '$a ', '#t%', 'ir!']\n",
    "\n",
    "string = \"\"\n",
    "for j in range (len(matrix[0])):\n",
    "    for i in range (len(matrix)):\n",
    "        string+=(matrix[i][j])\n",
    "    \n",
    "regex_pattern = r'(?<=\\w)[\\W]{1,}(?=\\w{1,})'\n",
    "replacement_string = \" \"\n",
    "\n",
    "output_string = re.sub(regex_pattern, replacement_string, string)\n",
    "print(output_string)"
   ]
  }
 ],
 "metadata": {
  "kernelspec": {
   "display_name": "Python 3",
   "language": "python",
   "name": "python3"
  },
  "language_info": {
   "name": "python",
   "version": "3.10.8"
  },
  "orig_nbformat": 4
 },
 "nbformat": 4,
 "nbformat_minor": 2
}
